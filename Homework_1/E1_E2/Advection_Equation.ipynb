{
 "cells": [
  {
   "cell_type": "markdown",
   "metadata": {},
   "source": [
    "# **Advection Equation**\n",
    "\n",
    "This notebook solves the **advection equation** $\\frac{\\partial u}{\\partial t} + a \\frac{\\partial u}{\\partial x} = 0$ using as initial condition a **gaussian profile** $u(x,t=0) = \\exp{[-(x - x_0)^2]}$ with $x_0 = 5$ or a **_step function_** $u(x,t=0) = 1$ _if_ $x\\in [4,6]$.\n",
    "\n",
    "We use a domain $x\\in [0,10]$ with _periodic boundary conditions_ and we evolve the solution up to $t = 0.5$.\n",
    "\n",
    "Both the initial conditions and the scheme to be used can be chosen by modifying few parameters where indicated."
   ]
  },
  {
   "cell_type": "code",
   "execution_count": 14,
   "metadata": {},
   "outputs": [],
   "source": [
    "import numpy as np\n",
    "import matplotlib.pyplot as plt\n",
    "import os\n",
    "import imageio"
   ]
  },
  {
   "cell_type": "markdown",
   "metadata": {},
   "source": [
    "# **Parameters of the problem**"
   ]
  },
  {
   "cell_type": "code",
   "execution_count": 15,
   "metadata": {},
   "outputs": [
    {
     "name": "stdout",
     "output_type": "stream",
     "text": [
      "nx = 101\n",
      "dx = 0.1\n",
      "dt = 0.05\n",
      "Number of iterations = 400.0\n"
     ]
    }
   ],
   "source": [
    "# Define the speed a\n",
    "a = 1.0\n",
    "\n",
    "# Define the domain\n",
    "L = 10.0 # Domain length\n",
    "hundreds = 1 # Hundreds of points to be used\n",
    "nx = 1 + hundreds * 100 # Number of grid points\n",
    "\n",
    "dx = L / (nx - 1) # Grid spacing\n",
    "x_grid = np.linspace(0, L, nx)\n",
    "\n",
    "# Define the time step and the final time\n",
    "cf = 0.5 # Courant factor\n",
    "dt = cf * dx / a # Time step\n",
    "t_final = 20.0\n",
    "\n",
    "print(\"nx =\", nx)\n",
    "print(\"dx =\", dx)\n",
    "print(\"dt =\", dt)\n",
    "print(\"Number of iterations =\", t_final / dt)"
   ]
  },
  {
   "cell_type": "markdown",
   "metadata": {},
   "source": [
    "# **Method selection**\n",
    "\n",
    "Down below one can choose the method to be used to solve the advection equation by changing the index to subscript the \"methods\" list. See comments."
   ]
  },
  {
   "cell_type": "code",
   "execution_count": 16,
   "metadata": {},
   "outputs": [],
   "source": [
    "# Wether to save the results or not\n",
    "save_results = False"
   ]
  },
  {
   "cell_type": "code",
   "execution_count": 17,
   "metadata": {},
   "outputs": [],
   "source": [
    "#             0       1        2          3\n",
    "methods = [\"FTCS\", \"LAX-F\", \"LAX-W\", \"LEAPFROG\"]\n",
    "\n",
    "# ***\n",
    "# METHOD TO BE USED\n",
    "#------------------------------------------------\n",
    "method = methods[2]\n",
    "#------------------------------------------------\n",
    "# ***"
   ]
  },
  {
   "cell_type": "markdown",
   "metadata": {},
   "source": [
    "# **Initial condition selection**\n",
    "\n",
    "Same as for the method selection"
   ]
  },
  {
   "cell_type": "code",
   "execution_count": 18,
   "metadata": {},
   "outputs": [],
   "source": [
    "#                       0       1\n",
    "intial_conditions = [\"GAUS\", \"STEP\"]\n",
    "\n",
    "# ***\n",
    "# INITIAL CONDITION\n",
    "#------------------------------------------------\n",
    "initial_condition = intial_conditions[1]\n",
    "#------------------------------------------------\n",
    "# ***"
   ]
  },
  {
   "cell_type": "markdown",
   "metadata": {},
   "source": [
    "# Files managing + **Initial condition generation**\n",
    "\n",
    "Mainly definition of variables for saving files and making plots.\n",
    "\n",
    "The generation of the initial condition is highlighted by comments."
   ]
  },
  {
   "cell_type": "code",
   "execution_count": 19,
   "metadata": {},
   "outputs": [],
   "source": [
    "# File paths variables\n",
    "if method.lower() == \"ftcs\":\n",
    "    method_dir_path = \"FTCS\"\n",
    "    l2_norm_data_path = \"l2norm_FTCS.dat\"\n",
    "elif method.lower() == \"lax-f\":\n",
    "    method_dir_path = \"LAX-FRIEDRICHS\"\n",
    "    l2_norm_data_path = \"l2norm_LAX.dat\"\n",
    "elif method.lower() == \"leapfrog\":\n",
    "    method_dir_path = \"LEAPFROG\"\n",
    "    l2_norm_data_path = \"l2norm_LEAPFROG.dat\"\n",
    "elif method.lower() == \"lax-w\":\n",
    "    method_dir_path = \"LAX-WENDROFF\"\n",
    "    l2_norm_data_path = \"l2norm_LAXWENDROFF.dat\"\n",
    "\n",
    "# Support strings for file names and plot labels\n",
    "par_str = \"Cf-\" + str(cf) + \"_N-\" + str(nx)\n",
    "par_label = r'$C_f=$' + str(cf) + r'$;\\ N=$' + str(nx)\n",
    "\n",
    "# String for file names\n",
    "movie_name = par_str + \".mp4\"\n",
    "l2_img_name = \"l2_\" + par_str + \".png\" # l2 norm\n",
    "IF_img_name = \"IF_\" + par_str + \".png\" # Intial/Final\n",
    "l2_data_name = \"l2_\" + par_str + \".npz\"\n",
    "IF_data_name = \"IF_\" + par_str + \".npz\"\n",
    "\n",
    "if initial_condition.lower() == \"gaus\":\n",
    "    folder_name = \"GAUS\"\n",
    "    # ***\n",
    "    # INITIAL CONDITION\n",
    "    #------------------------------------------------\n",
    "    x0 = 5\n",
    "    u_initial = np.exp(-(x_grid - x0) ** 2)\n",
    "    #------------------------------------------------\n",
    "    # ***\n",
    "elif initial_condition.lower() == \"step\":\n",
    "    folder_name = \"STEP\"\n",
    "    # ***\n",
    "    # INITIAL CONDITION\n",
    "    #------------------------------------------------\n",
    "    u_initial = np.zeros(nx)\n",
    "    x_inf, x_sup = 4, 6\n",
    "    u_initial[(x_grid >= 4) & (x_grid <= 6)] = 1\n",
    "    #------------------------------------------------\n",
    "    # ***\n",
    "\n",
    "# Path of folders to be used to save results\n",
    "folder_path = os.path.join(method_dir_path, folder_name)\n",
    "movie_dir_path = os.path.join(folder_path, \"movies\")\n",
    "frames_dir_path = os.path.join(movie_dir_path, \"frames\")\n",
    "images_dir_path = os.path.join(folder_path, \"images\")\n",
    "data_dir_path = os.path.join(folder_path, \"data\")\n",
    "\n",
    "movie_frame_name_prefix = \"img_\""
   ]
  },
  {
   "cell_type": "markdown",
   "metadata": {},
   "source": [
    "# Files managing\n",
    "\n",
    "Creating and clearing folders.\n",
    "\n",
    "Some folders are untouched because we store the results in it."
   ]
  },
  {
   "cell_type": "code",
   "execution_count": 20,
   "metadata": {},
   "outputs": [],
   "source": [
    "if save_results:\n",
    "    # Create the folders if they don't exists\n",
    "    os.makedirs(frames_dir_path, exist_ok=True) # Makes also the movie path\n",
    "    os.makedirs(images_dir_path, exist_ok=True)\n",
    "    os.makedirs(data_dir_path, exist_ok=True)\n",
    "\n",
    "    # Empty the 'frames' folder\n",
    "    for file_name in os.listdir(frames_dir_path):\n",
    "        file_path = os.path.join(frames_dir_path, file_name)\n",
    "        os.remove(file_path)\n",
    "\n",
    "    # Empty the 'intial function' folder\n",
    "    for file_name in os.listdir(folder_path):\n",
    "        file_path = os.path.join(folder_path, file_name)\n",
    "        if os.path.isfile(file_path):\n",
    "            os.remove(file_path)\n",
    "\n",
    "    # Empty the 'method' folder\n",
    "    for file_name in os.listdir(method_dir_path):\n",
    "        file_path = os.path.join(method_dir_path, file_name)\n",
    "        if os.path.isfile(file_path):\n",
    "            os.remove(file_path)\n",
    "    \n",
    "    # Don't touch the images, movies and data folders where different results are stored"
   ]
  },
  {
   "cell_type": "markdown",
   "metadata": {},
   "source": [
    "# **Initialisation**\n",
    "\n",
    "Initialisation of the variables to solve the advection equation."
   ]
  },
  {
   "cell_type": "code",
   "execution_count": 21,
   "metadata": {},
   "outputs": [],
   "source": [
    "# Initialise the solution array\n",
    "u_current = u_initial.copy()\n",
    "\n",
    "# We create arrays where we will store the time and the l2norm\n",
    "l2norm = []\n",
    "l2norm.append(np.sqrt(np.sum(u_current ** 2) / len(u_current))) # l2norm at the initial time\n",
    "\n",
    "time = []\n",
    "time.append(0.0) # Append the initial time"
   ]
  },
  {
   "cell_type": "markdown",
   "metadata": {},
   "source": [
    "# **Evolution of the initial condition** and frames saving\n",
    "\n",
    "The choosen scheme is used to solve the advection equation with the specified initial condition.\n",
    "\n",
    "Some snapshots of the solution are saved if required, otherwise only the intial and final snapshots are shown after this."
   ]
  },
  {
   "cell_type": "code",
   "execution_count": 22,
   "metadata": {},
   "outputs": [],
   "source": [
    "# Initialize time and iteration counter\n",
    "t = 0.0\n",
    "i = 0\n",
    "\n",
    "# Save the initial conditions\n",
    "if save_results:\n",
    "    plt.plot(x_grid, u_current)\n",
    "    plt.title(r'$Time=$' + str(round(t, 2)) + '; ' + par_label)\n",
    "    plt.ylim(0, 1.1)\n",
    "\n",
    "    frame_name = movie_frame_name_prefix + str(i).zfill(5) + \".png\"\n",
    "    frame_path = os.path.join(frames_dir_path, frame_name)\n",
    "    plt.savefig(frame_path, dpi=200)\n",
    "    plt.close()\n",
    "\n",
    "# Solve the advection equation\n",
    "while t < t_final:\n",
    "    # Compute the new solution using the FTCS method\n",
    "    # Note: np.roll(u_current, -1) is equivalent to u(j+1) and\n",
    "    #       np.roll(u_current,  1) is equivalent to u(j-1)\n",
    "    # Using np.roll is equivalent to use periodic boundary conditions\n",
    "\n",
    "    if method.lower() == \"ftcs\":\n",
    "        factor = a * dt / (2 * dx)\n",
    "        u_next = u_current - factor * (np.roll(u_current, -1) - np.roll(u_current, 1))\n",
    "    elif method.lower() == \"lax-f\":\n",
    "        factor = a * dt / (2 * dx)\n",
    "        u_next = (1 / 2) * (np.roll(u_current, -1) + np.roll(u_current, 1)) - factor * (np.roll(u_current, -1) - np.roll(u_current, 1))    \n",
    "    elif method.lower() == \"lax-w\":\n",
    "        factor = a * dt / dx\n",
    "        u_next = u_current - (1 / 2) * factor * (np.roll(u_current, -1) - np.roll(u_current, 1)) + (1 / 2) * (factor ** 2) * (np.roll(u_current, -1) - 2 * u_current + np.roll(u_current, 1))\n",
    "    elif method.lower() == \"leapfrog\":\n",
    "        if i == 0: # Use LAX-F\n",
    "            factor = a * dt / (2 * dx)\n",
    "            u_next = (1 / 2) * (np.roll(u_current, -1) + np.roll(u_current, 1)) - factor * (np.roll(u_current, -1) - np.roll(u_current, 1))\n",
    "            u_previous = u_initial.copy()\n",
    "        else:\n",
    "            factor = a * dt / dx\n",
    "            u_next = u_previous - factor * (np.roll(u_current, -1) - np.roll(u_current, 1))\n",
    "            u_previous = u_current.copy()\n",
    "\n",
    "    # Update the solution\n",
    "    u_current = u_next.copy()\n",
    "\n",
    "    # Advance the time \n",
    "    t += dt\n",
    "    i += 1\n",
    "    \n",
    "    # Compute the l2 norm and add the time to the time vector\n",
    "    l2norm.append(np.sqrt(np.sum(u_current ** 2) / len(u_current)))\n",
    "    time.append(t)\n",
    "    \n",
    "    # Save some snapshots\n",
    "    if save_results:\n",
    "        # Plot the current result and save in an image every 10 iterations\n",
    "        if (i % (10 * hundreds) == 0):\n",
    "            plt.plot(x_grid, u_current)\n",
    "            plt.title(r'$Time=$' + str(round(t, 2)) + '; ' + par_label)\n",
    "            plt.ylim(0, 1.1)\n",
    "            frame_name = movie_frame_name_prefix + str(i).zfill(5) + \".png\"\n",
    "            frame_path = os.path.join(frames_dir_path, frame_name)\n",
    "            plt.savefig(frame_path, dpi=200)\n",
    "            plt.close()\n"
   ]
  },
  {
   "cell_type": "markdown",
   "metadata": {},
   "source": [
    "# **Initial and final snapshots**\n",
    "\n",
    "Plots of the intial and final snaoshots."
   ]
  },
  {
   "cell_type": "code",
   "execution_count": 23,
   "metadata": {},
   "outputs": [
    {
     "data": {
      "image/png": "[encoded data removed]",
      "text/plain": [
       "<Figure size 640x480 with 1 Axes>"
      ]
     },
     "metadata": {},
     "output_type": "display_data"
    }
   ],
   "source": [
    "# Plot the initial and final solution\n",
    "plt.plot(x_grid, u_initial, label='Initial')\n",
    "plt.plot(x_grid, u_current, label='Final')\n",
    "\n",
    "plt.title('Time = ' + str(round(t, 2)) + '; ' + par_label)\n",
    "plt.xlabel(r'$x$')\n",
    "plt.ylabel(r'$u$')\n",
    "\n",
    "plt.legend()\n",
    "\n",
    "# Save the results\n",
    "if save_results:\n",
    "    plt.savefig(os.path.join(images_dir_path, IF_img_name), dpi=200)\n",
    "    np.savez(os.path.join(data_dir_path, IF_data_name),\n",
    "             x_grid=x_grid,\n",
    "             u_i=u_initial,\n",
    "             u_f=u_current,\n",
    "             par_label=par_label)\n",
    "\n",
    "plt.show()"
   ]
  },
  {
   "cell_type": "markdown",
   "metadata": {},
   "source": [
    "# Movie maker\n",
    "\n",
    "Make a movie of the solutions using the saved snaposhots."
   ]
  },
  {
   "cell_type": "code",
   "execution_count": 24,
   "metadata": {},
   "outputs": [],
   "source": [
    "if save_results:\n",
    "    # Get the list of image files in the directory\n",
    "    files = os.listdir(frames_dir_path)\n",
    "\n",
    "    # Sort the files in alphanumeric order\n",
    "    files = sorted(files)\n",
    "\n",
    "    movie_path = os.path.join(movie_dir_path, movie_name)\n",
    "\n",
    "    with imageio.get_writer(movie_path, mode='I', quality=10) as writer:\n",
    "        for file in files:\n",
    "            image = imageio.imread(os.path.join(frames_dir_path, file))\n",
    "            writer.append_data(image)\n",
    "            \n",
    "    files = []"
   ]
  },
  {
   "cell_type": "markdown",
   "metadata": {},
   "source": [
    "# Files managing\n",
    "\n",
    "Delete frames if required (delete_frames = True)."
   ]
  },
  {
   "cell_type": "code",
   "execution_count": 25,
   "metadata": {},
   "outputs": [],
   "source": [
    "if save_results:\n",
    "    # Empty the 'frames' folder\n",
    "    delete_frames = True\n",
    "\n",
    "    if delete_frames:\n",
    "        for file_name in os.listdir(frames_dir_path):\n",
    "            file_path = os.path.join(frames_dir_path, file_name)\n",
    "            os.remove(file_path)"
   ]
  },
  {
   "cell_type": "markdown",
   "metadata": {},
   "source": [
    "# **$L_2$ Norm**\n",
    "\n",
    "Plot the $L_2$ norm normalized at its initial value."
   ]
  },
  {
   "cell_type": "code",
   "execution_count": 26,
   "metadata": {},
   "outputs": [
    {
     "data": {
      "image/png": "[encoded data removed]",
      "text/plain": [
       "<Figure size 640x480 with 1 Axes>"
      ]
     },
     "metadata": {},
     "output_type": "display_data"
    }
   ],
   "source": [
    "# Normalize the l2norm at its initial value\n",
    "l2norm_normalized = np.array(l2norm) / l2norm[0]\n",
    "\n",
    "# Compare l2norm with data stored\n",
    "plt.title(\"Normalized L2 norm\")\n",
    "plt.plot(time, l2norm_normalized, label=par_label)\n",
    "plt.xlabel(r'$time$')\n",
    "\n",
    "# Overplot the saved data (just for the gaussian profile)\n",
    "if initial_condition == \"GAUS\":\n",
    "    l2_saved = np.genfromtxt(l2_norm_data_path, comments='#')\n",
    "    # Normalize also the saved l2norm\n",
    "    l2_saved_normalized = l2_saved[:, 1] / l2_saved[1][1]\n",
    "    plt.plot(l2_saved[:, 0], l2_saved_normalized, '+', label=r'$C_f=0.5;\\ N=101$')\n",
    "\n",
    "plt.legend()\n",
    "\n",
    "# Save the plot\n",
    "if save_results:\n",
    "    plt.savefig(os.path.join(images_dir_path, l2_img_name), dpi=200)\n",
    "    np.savez(os.path.join(data_dir_path, l2_data_name),\n",
    "             time=time,\n",
    "             l2norm=l2norm_normalized,\n",
    "             par_label=par_label)\n",
    "\n",
    "plt.show()"
   ]
  }
 ],
 "metadata": {
  "kernelspec": {
   "display_name": "Python 3",
   "language": "python",
   "name": "python3"
  },
  "language_info": {
   "codemirror_mode": {
    "name": "ipython",
    "version": 3
   },
   "file_extension": ".py",
   "mimetype": "text/x-python",
   "name": "python",
   "nbconvert_exporter": "python",
   "pygments_lexer": "ipython3",
   "version": "3.12.3"
  }
 },
 "nbformat": 4,
 "nbformat_minor": 4
}
