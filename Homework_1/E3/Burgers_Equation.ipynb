{
 "cells": [
  {
   "cell_type": "markdown",
   "metadata": {},
   "source": [
    "# **Burgers Equation**\n",
    "\n",
    "This notebook solves the **Burgers equation** $\\frac{\\partial u}{\\partial t} + u \\frac{\\partial u}{\\partial x} = 0$ using as initial condition $u(x,t=0) = 10 \\exp{[-(x - x_0)^2]}$ with $x_0 = 5$.\n",
    "\n",
    "We use a domain $x\\in [0,10]$ with _periodic boundary conditions_ and we evolve the solution up to $t = 20$.\n",
    "\n",
    "It is possible to choose to solve the equation with both the _flux-conservative_ and the _non flux-conservstive_ version of the **upwind scheme**."
   ]
  },
  {
   "cell_type": "code",
   "execution_count": 61,
   "metadata": {},
   "outputs": [],
   "source": [
    "import numpy as np\n",
    "import matplotlib.pyplot as plt\n",
    "import os\n",
    "import imageio"
   ]
  },
  {
   "cell_type": "markdown",
   "metadata": {},
   "source": [
    "# **Parameters of the problem**"
   ]
  },
  {
   "cell_type": "code",
   "execution_count": 62,
   "metadata": {},
   "outputs": [],
   "source": [
    "# Define the domain\n",
    "L = 10.0 # Domain length\n",
    "hundreds = 1 # Hundreds of points to be used\n",
    "nx = 1 + hundreds * 100 # Number of grid points\n",
    "\n",
    "dx = L / (nx - 1) # Grid spacing\n",
    "x_grid = np.linspace(0, L, nx)\n",
    "\n",
    "# Define the time step and the final time\n",
    "cf = 0.5 # Courant factor\n",
    "t_final = 0.5"
   ]
  },
  {
   "cell_type": "markdown",
   "metadata": {},
   "source": [
    "# **Method selection**\n",
    "\n",
    "Down below one can choose the method to be used to solve the advection equation by changing the index to subscript the \"methods\" list. See comments."
   ]
  },
  {
   "cell_type": "code",
   "execution_count": 63,
   "metadata": {},
   "outputs": [],
   "source": [
    "# Wether to save the results or not\n",
    "save_results = False"
   ]
  },
  {
   "cell_type": "code",
   "execution_count": 64,
   "metadata": {},
   "outputs": [],
   "source": [
    "#               0            1\n",
    "methods = [\"UPWIND-FC\", \"UPWIND-NFC\"]\n",
    "\n",
    "# ***\n",
    "# METHOD TO BE USED\n",
    "#------------------------------------------------\n",
    "method = methods[0]\n",
    "#------------------------------------------------\n",
    "# ***"
   ]
  },
  {
   "cell_type": "markdown",
   "metadata": {},
   "source": [
    "# Files managing + **Initial condition generation**\n",
    "\n",
    "Mainly definition of variables for saving files and making plots.\n",
    "\n",
    "The generation of the initial condition is highlighted by comments."
   ]
  },
  {
   "cell_type": "code",
   "execution_count": 65,
   "metadata": {},
   "outputs": [
    {
     "name": "stdout",
     "output_type": "stream",
     "text": [
      "nx = 101\n",
      "dx = 0.1\n",
      "dt = 0.005\n",
      "Number of iterations = 100.0\n"
     ]
    }
   ],
   "source": [
    "# File paths variables\n",
    "if method.lower() == \"upwind-fc\":\n",
    "    method_dir_path = methods[0]\n",
    "elif method.lower() == \"upwind-nfc\":\n",
    "    method_dir_path = methods[1]\n",
    "\n",
    "# Support strings for file names and plot labels\n",
    "par_str = \"N-\" + str(nx)\n",
    "par_label = r'$N=$' + str(nx)\n",
    "\n",
    "# String for file names\n",
    "movie_name = par_str + \".mp4\"\n",
    "l2_img_name = \"l2_\" + par_str + \".png\" # l2 norm\n",
    "IF_img_name = \"IF_\" + par_str + \".png\" # Intial/Final\n",
    "l2_data_name = \"l2_\" + par_str + \".npz\"\n",
    "IF_data_name = \"IF_\" + par_str + \".npz\"\n",
    "SNAP_data_name = \"SNAP_\" + par_str + \".npz\"\n",
    "\n",
    "# ***\n",
    "# INITIAL CONDITION\n",
    "#------------------------------------------------\n",
    "x0 = 5\n",
    "u_initial = 10 * np.exp(-(x_grid - x0) ** 2)\n",
    "\n",
    "# I set the time step to the minimum possible, which is given\n",
    "# by the maximum velocity, which is given by the maximum\n",
    "# value of the function\n",
    "dt = cf * dx / np.max(u_initial)\n",
    "#------------------------------------------------\n",
    "# ***\n",
    "\n",
    "# Path of folders to be used to save results\n",
    "folder_path = method_dir_path\n",
    "movie_dir_path = os.path.join(folder_path, \"movies\")\n",
    "frames_dir_path = os.path.join(movie_dir_path, \"frames\")\n",
    "images_dir_path = os.path.join(folder_path, \"images\")\n",
    "data_dir_path = os.path.join(folder_path, \"data\")\n",
    "\n",
    "movie_frame_name_prefix = \"img_\"\n",
    "\n",
    "# Print some parameters of then problem\n",
    "print(\"nx =\", nx)\n",
    "print(\"dx =\", dx)\n",
    "print(\"dt =\", dt)\n",
    "print(\"Number of iterations =\", t_final / dt)"
   ]
  },
  {
   "cell_type": "markdown",
   "metadata": {},
   "source": [
    "# Files managing\n",
    "\n",
    "Creating and clearing folders.\n",
    "\n",
    "Some folders are untouched because we store the results in it."
   ]
  },
  {
   "cell_type": "code",
   "execution_count": 66,
   "metadata": {},
   "outputs": [],
   "source": [
    "if save_results:\n",
    "    # Create the folders if they don't exists\n",
    "    os.makedirs(frames_dir_path, exist_ok=True) # Makes also the movie path\n",
    "    os.makedirs(images_dir_path, exist_ok=True)\n",
    "    os.makedirs(data_dir_path, exist_ok=True)\n",
    "\n",
    "    # Empty the 'frames' folder\n",
    "    for file_name in os.listdir(frames_dir_path):\n",
    "        file_path = os.path.join(frames_dir_path, file_name)\n",
    "        os.remove(file_path)\n",
    "\n",
    "    # Empty the 'method' folder\n",
    "    for file_name in os.listdir(folder_path):\n",
    "        file_path = os.path.join(folder_path, file_name)\n",
    "        if os.path.isfile(file_path):\n",
    "            os.remove(file_path)\n",
    "    \n",
    "    # Don't touch the images, movies and data folders where different results are stored"
   ]
  },
  {
   "cell_type": "markdown",
   "metadata": {},
   "source": [
    "# **Initialisation**\n",
    "\n",
    "Initialisation of the variables to solve the advection equation."
   ]
  },
  {
   "cell_type": "code",
   "execution_count": 67,
   "metadata": {},
   "outputs": [],
   "source": [
    "# Initialise the solution array\n",
    "u_current = u_initial.copy()\n",
    "u_saved = u_initial.copy()\n",
    "\n",
    "# We create arrays where we will store the time and the l2norm\n",
    "l2norm = []\n",
    "l2norm.append(np.sqrt(np.sum(u_current ** 2) / len(u_current))) # l2norm at the initial time\n",
    "\n",
    "time = []\n",
    "time.append(0.0) # Append the initial time"
   ]
  },
  {
   "cell_type": "markdown",
   "metadata": {},
   "source": [
    "# **Evolution of the initial condition** and frames saving\n",
    "\n",
    "The choosen scheme is used to solve the Burgers equation.\n",
    "\n",
    "Some snapshots of the solution are saved if required, otherwise only the intial and final snapshots are shown after this."
   ]
  },
  {
   "cell_type": "code",
   "execution_count": 68,
   "metadata": {},
   "outputs": [],
   "source": [
    "# Initialize time and iteration counter\n",
    "t = 0.0\n",
    "i = 0\n",
    "\n",
    "# Save the initial conditions\n",
    "if save_results:\n",
    "    plt.plot(x_grid, u_current)\n",
    "    plt.title(r'$Time=$' + str(round(t, 2)) + '; ' + par_label)\n",
    "    plt.ylim(0, 11)\n",
    "\n",
    "    frame_name = movie_frame_name_prefix + str(i).zfill(5) + \".png\"\n",
    "    frame_path = os.path.join(frames_dir_path, frame_name)\n",
    "    plt.savefig(frame_path, dpi=200)\n",
    "    plt.close()\n",
    "\n",
    "# Solve the advection equation\n",
    "while t < t_final:\n",
    "    # Compute the new solution using the FTCS method\n",
    "    # Note: np.roll(u_current, -1) is equivalent to u(j+1) and\n",
    "    #       np.roll(u_current,  1) is equivalent to u(j-1)\n",
    "    # Using np.roll is equivalent to use periodic boundary conditions\n",
    "\n",
    "    if method.lower() == \"upwind-fc\":\n",
    "        factor = dt / (2 * dx)\n",
    "        u_next = u_current - factor * (u_current ** 2 - np.roll(u_current, 1) ** 2)\n",
    "    elif method.lower() == \"upwind-nfc\":\n",
    "        factor = dt / dx\n",
    "        u_next = u_current - factor * u_current * (u_current - np.roll(u_current, 1))\n",
    "\n",
    "    # Update the solution\n",
    "    u_current = u_next.copy()\n",
    "\n",
    "    # Advance the time \n",
    "    t += dt\n",
    "    i += 1\n",
    "    \n",
    "    # Compute the l2 norm and add the time to the time vector\n",
    "    l2norm.append(np.sqrt(np.sum(u_current ** 2) / len(u_current)))\n",
    "    time.append(t)\n",
    "    \n",
    "    # Save some snapshots\n",
    "    if save_results:\n",
    "        # Plot the current result and save in an image every 10 iterations\n",
    "        if (i % (10 * hundreds) == 0):\n",
    "            u_saved = np.vstack([u_saved, u_current]) # Save data\n",
    "            plt.plot(x_grid, u_current)\n",
    "            plt.title(r'$Time=$' + str(round(t, 2)) + '; ' + par_label)\n",
    "            plt.ylim(0, 11)\n",
    "            frame_name = movie_frame_name_prefix + str(i).zfill(5) + \".png\"\n",
    "            frame_path = os.path.join(frames_dir_path, frame_name)\n",
    "            plt.savefig(frame_path, dpi=200)\n",
    "            plt.close()\n",
    "\n",
    "if save_results:\n",
    "    np.savez(os.path.join(data_dir_path, SNAP_data_name),\n",
    "             x_grid=x_grid,\n",
    "             u_saved=u_saved,\n",
    "             par_label=par_label)\n"
   ]
  },
  {
   "cell_type": "markdown",
   "metadata": {},
   "source": [
    "# **Initial and final snapshots**\n",
    "\n",
    "Plots of the intial and final snaoshots."
   ]
  },
  {
   "cell_type": "code",
   "execution_count": 69,
   "metadata": {},
   "outputs": [
    {
     "data": {
      "image/png": "[encoded data removed]",
      "text/plain": [
       "<Figure size 640x480 with 1 Axes>"
      ]
     },
     "metadata": {},
     "output_type": "display_data"
    }
   ],
   "source": [
    "# Plot the initial and final solution\n",
    "plt.plot(x_grid, u_initial, label='Initial')\n",
    "plt.plot(x_grid, u_current, label='Final')\n",
    "\n",
    "plt.title('Time = ' + str(round(t, 2)) + '; ' + par_label)\n",
    "plt.xlabel(r'$x$')\n",
    "plt.ylabel(r'$u$')\n",
    "\n",
    "plt.legend()\n",
    "\n",
    "# Save the results\n",
    "if save_results:\n",
    "    plt.savefig(os.path.join(images_dir_path, IF_img_name), dpi=200)\n",
    "    np.savez(os.path.join(data_dir_path, IF_data_name),\n",
    "             x_grid=x_grid,\n",
    "             u_i=u_initial,\n",
    "             u_f=u_current,\n",
    "             par_label=par_label)\n",
    "\n",
    "plt.show()"
   ]
  },
  {
   "cell_type": "markdown",
   "metadata": {},
   "source": [
    "# Movie maker\n",
    "\n",
    "Make a movie of the solutions using the saved snaposhots."
   ]
  },
  {
   "cell_type": "code",
   "execution_count": 70,
   "metadata": {},
   "outputs": [],
   "source": [
    "if save_results:\n",
    "    # Get the list of image files in the directory\n",
    "    files = os.listdir(frames_dir_path)\n",
    "\n",
    "    # Sort the files in alphanumeric order\n",
    "    files = sorted(files)\n",
    "\n",
    "    movie_path = os.path.join(movie_dir_path, movie_name)\n",
    "\n",
    "    with imageio.get_writer(movie_path, mode='I', quality=10) as writer:\n",
    "        for file in files:\n",
    "            image = imageio.imread(os.path.join(frames_dir_path, file))\n",
    "            writer.append_data(image)\n",
    "            \n",
    "    files = []"
   ]
  },
  {
   "cell_type": "markdown",
   "metadata": {},
   "source": [
    "# Files managing\n",
    "\n",
    "Delete frames if required (delete_frames = True)."
   ]
  },
  {
   "cell_type": "code",
   "execution_count": 71,
   "metadata": {},
   "outputs": [],
   "source": [
    "if save_results:\n",
    "    # Empty the 'frames' folder\n",
    "    delete_frames = True\n",
    "\n",
    "    if delete_frames:\n",
    "        for file_name in os.listdir(frames_dir_path):\n",
    "            file_path = os.path.join(frames_dir_path, file_name)\n",
    "            os.remove(file_path)"
   ]
  },
  {
   "cell_type": "markdown",
   "metadata": {},
   "source": [
    "# **$L_2$ Norm**\n",
    "\n",
    "Plot the $L_2$ norm normalized at its initial value."
   ]
  },
  {
   "cell_type": "code",
   "execution_count": 72,
   "metadata": {},
   "outputs": [
    {
     "data": {
      "image/png": "[encoded data removed]",
      "text/plain": [
       "<Figure size 640x480 with 1 Axes>"
      ]
     },
     "metadata": {},
     "output_type": "display_data"
    }
   ],
   "source": [
    "# Normalize the l2norm at its initial value\n",
    "l2norm_normalized = np.array(l2norm) / l2norm[0]\n",
    "\n",
    "# Plot the l2norm\n",
    "plt.title(\"Normalized L2 norm\")\n",
    "plt.plot(time, l2norm_normalized, label=par_label)\n",
    "plt.xlabel(r'$time$')\n",
    "\n",
    "plt.legend()\n",
    "\n",
    "# Save the plot\n",
    "if save_results:\n",
    "    plt.savefig(os.path.join(images_dir_path, l2_img_name), dpi=200)\n",
    "    np.savez(os.path.join(data_dir_path, l2_data_name),\n",
    "             time=time,\n",
    "             l2norm=l2norm_normalized,\n",
    "             par_label=par_label)\n",
    "\n",
    "plt.show()"
   ]
  }
 ],
 "metadata": {
  "kernelspec": {
   "display_name": "Python 3",
   "language": "python",
   "name": "python3"
  },
  "language_info": {
   "codemirror_mode": {
    "name": "ipython",
    "version": 3
   },
   "file_extension": ".py",
   "mimetype": "text/x-python",
   "name": "python",
   "nbconvert_exporter": "python",
   "pygments_lexer": "ipython3",
   "version": "3.12.3"
  }
 },
 "nbformat": 4,
 "nbformat_minor": 2
}
